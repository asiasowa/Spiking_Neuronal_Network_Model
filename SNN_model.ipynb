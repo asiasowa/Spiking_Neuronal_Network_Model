{
 "cells": [
  {
   "cell_type": "code",
   "execution_count": 79,
   "metadata": {},
   "outputs": [],
   "source": [
    "# Importing libraries\n",
    "import matplotlib.pyplot as plt\n",
    "import numpy as np\n",
    "import pandas as pd\n",
    "import seaborn as sns"
   ]
  },
  {
   "cell_type": "markdown",
   "metadata": {},
   "source": [
    "# Setup"
   ]
  },
  {
   "cell_type": "markdown",
   "metadata": {},
   "source": [
    "## Plotting functions"
   ]
  },
  {
   "cell_type": "code",
   "execution_count": 80,
   "metadata": {},
   "outputs": [],
   "source": [
    "# Plot membrane potential \n",
    "def plot_V_m(V_neuron, spike_times, time):\n",
    "  \"\"\"\n",
    "  Plot membrane potential of a single neuron\n",
    "\n",
    "  Args:\n",
    "  V_neuron    : Voltage of a single neuron\n",
    "  spike_times : spike train\n",
    "\n",
    "  Returns:\n",
    "  Figure of the membrane potential trajetory for a single neuron\n",
    "  \"\"\"\n",
    "  if spike_times.size:\n",
    "    spike_times_int = (spike_times / dt).astype(int) - 1\n",
    "    V_neuron[spike_times_int] += 20  # draw part of spike above threshold\n",
    "\n",
    "  plt.plot(time, V_neuron, 'b')\n",
    "  plt.axhline(V_th, 0, 1, color='k', ls='--')\n",
    "  plt.plot(spike_times,np.max(V_neuron)+0*spike_times,'ro')\n",
    "  plt.xlabel('Time (ms)')\n",
    "  plt.ylabel('Membrane potential (mV)')\n",
    "  plt.legend(['Membrane\\npotential', r'Threshold V$_{\\mathrm{th}}$'],\n",
    "            loc=[1.05, 0.75])\n",
    "  plt.ylim([-75, 0])\n",
    "  plt.show()\n",
    "\n",
    "\n",
    "# Plot the raster of spike train\n",
    "def plot_raster(spikes_matrix, time):\n",
    "  \"\"\"\n",
    "  Makes raster plot with spike trains\n",
    "\n",
    "  Args:\n",
    "    time         : time of simulation [ms]\n",
    "    spike_matrix : binary spike trains, with shape (N, Lt)\n",
    "\n",
    "  Returns:\n",
    "    Raster plot of the Poisson spike train\n",
    "  \"\"\"\n",
    "\n",
    "  plt.figure()\n",
    "  plt.plot(spikes_matrix[0],spikes_matrix[1],'k.')\n",
    "  plt.ylabel('Index of spiking neuron')\n",
    "  plt.xlabel('Time (ms)')\n",
    "  plt.show()"
   ]
  },
  {
   "cell_type": "markdown",
   "metadata": {},
   "source": [
    "## Parameters"
   ]
  },
  {
   "cell_type": "code",
   "execution_count": 82,
   "metadata": {},
   "outputs": [],
   "source": [
    "# Defining parameters\n",
    "\n",
    "# typical neuron parameters#\n",
    "C_m = 200       # membrane capacitance [pF] \n",
    "g_L = 10        # leak conductance [nS]\n",
    "E_L = -75       # leak reversal potential [mV] \n",
    "V_th = -50      # threshold current\n",
    "V_reset = -65   # Post-spike reset potential [mV]\n",
    "tau_m = 24      # membrane time constant [ms] \n",
    "V_init = -65    # initial potential [mV] \n",
    "t_ref = 2       # absolute refractory time (ms) \n",
    "V_lb = -80      # lower boundary\n",
    "\n",
    "# typical Poisson input parameters#\n",
    "tau_p = 5       # Poisson time constant [ms]\n",
    "j_p = 15        # Poisson weight \n",
    "N_p= 350        # number of Poisson neurons  \n",
    "ratio_p = 5/1000# noise amplitute [Hz] \n",
    "\n",
    "# typical excitatory and inhibitory synaptic transmission parameters\n",
    "V_e = 0         # Excitatory reversal potential [mV]\n",
    "V_i = -85       # Inhibitory reversal potential [mV]\n",
    "N_e = 340       # nr of excitatory neurons \n",
    "N_i = 60        # nr of inhibitory neurons \n",
    "tau_e = 8       # excitatory synaptic conductance time constant [ms]\n",
    "tau_i = 4       # inhibitory synaptic conductance time constant [ms] \n",
    "\n",
    "# Connection probabilities\n",
    "pee = 0.01      # connection probability of exc to exc cell \n",
    "pei = 0.15      # connection probability of inh to exc cell \n",
    "pie = 0.15      # connection probability of exc to inh cell \n",
    "pii = 0.1       # connection probability of inh to inh cell \n",
    "pex = 0.1       # connection probability of Poisson to exc cell\n",
    "pix = 0.1       # connection probability of Poisson to inh cell\n",
    "\n",
    "# Synaptic weights\n",
    "jee = 350       # synaptic weight from exc to exc cell \n",
    "jei = -2100     # synaptic weight from inh to exc cell\n",
    "jie = 2000      # synaptic weight from exc to inh cell \n",
    "jii = -3500     # synaptic weight from inh to inh cell\n",
    "jex = 2250      # synaptic weight from Poisson to exc cell \n",
    "jix = 2000      # synaptic weight from Poisson to inh cell \n",
    "\n",
    "# Conductances\n",
    "gE_bar = 2.4    # excitatory conductance [nS] \n",
    "gI_bar = 2.4    # inhibitory conductance [nS]\n",
    "\n",
    "# Simulation parameters \n",
    "T = 100      # Total duration of simulation [ms]\n",
    "dt = .1         # Simulation time step [ms]\n",
    "\n",
    "# Time vector\n",
    "time = np.arange(0, T, dt)  # Vector of discretized time points [ms]\n"
   ]
  },
  {
   "cell_type": "markdown",
   "metadata": {},
   "source": [
    "# Poisson process\n",
    "`poisson_spikes_matrix ` is a family of $N_p$ Poisson processes modeling the spike times of $N_p$ neurons. It is stored as a matrix with two rows. The first row, `poisson_spikes_matrix[0,:]`, is a vector of spike times (random numbers in $[0,T]$) and `poisson_spikes_matrix[1,:]` is a vector of associated neuron indices (integers from  $0$ to  $N_p-1$). "
   ]
  },
  {
   "cell_type": "code",
   "execution_count": null,
   "metadata": {},
   "outputs": [],
   "source": [
    "# Generate Poisson spike trains\n",
    "\n",
    "def generate_poisson_spikes(N_p, rate_p, j_p, tau_p, myseed = False):\n",
    "  \"\"\"\n",
    "  Generates poisson spike trains\n",
    "\n",
    "  Args:\n",
    "    pars                      : parameter dictionary\n",
    "    myseed                    : random seed. int or boolean\n",
    "    N_p                       : number of Poisson neurons\n",
    "    ratio_p                   : noise amplitute [Hz] \n",
    "    j_p                       : Poisson synaptic weight\n",
    "    tau_p                     : Poisson synaptic constant\n",
    "\n",
    "  Returns:\n",
    "    poisson_spikes_matrix      : matrix with two rows - poisson_spikes_matrix[0,:] -\n",
    "                                a vector of spike times and poisson_spikes_matrix[1,:] \n",
    "                                is a vector of associated neuron indices\n",
    "    I_p                        : Input current [pA] (here: generated by Poisson distribution)\n",
    "    I_p_bar                    : Theoretical input current [pA]\n",
    "    poisson_spikes_int         : Total number of Poisson spikes\n",
    "  \"\"\"\n",
    " \n",
    "  # set random seed\n",
    "  if myseed:\n",
    "      np.random.seed(seed=myseed)\n",
    "  else:\n",
    "      np.random.seed()\n",
    "\n",
    "  # The total number of spikes obeys a Poisson\n",
    "  # distribution with expectation rx*Nx*T\n",
    "  poisson_spikes_int =np.random.poisson(ratio_p*N_p*T)\n",
    "  poisson_spikes_matrix=np.zeros((2,poisson_spikes_int))\n",
    "\n",
    "  # Spike times and indices are uniformly distributed\n",
    "  # once we condition on the total number of spikes\n",
    "  poisson_spikes_matrix[0,:]=np.random.rand(poisson_spikes_int)*T\n",
    "  poisson_spikes_matrix[1,:]=np.random.randint(0,N_p,size=poisson_spikes_int)\n",
    "\n",
    "  # Sort spike times \n",
    "  sort=np.argsort(poisson_spikes_matrix[0,:])\n",
    "  poisson_spikes_matrix=poisson_spikes_matrix[:,sort]\n",
    "\n",
    "  # Initialize Input current\n",
    "  I_p=np.zeros_like(time)\n",
    "\n",
    "  # Implement the ODE version of the Ix model\n",
    "  i_p=0\n",
    "  for i in range(1,len(time)):\n",
    "    I_p[i]=I_p[i-1]-dt*I_p[i-1]/tau_p\n",
    "    while (i_p<poisson_spikes_int and poisson_spikes_matrix[0,i_p]<=i*dt):\n",
    "      I_p[i]+=j_p/tau_p\n",
    "      i_p+=1\n",
    "\n",
    "  # Calculate theoretical stationary mean value\n",
    "  # of Ix, i.e., E[Ix]\n",
    "  I_p_bar=N_p*j_p*ratio_p\n",
    "\n",
    "  print('Theoretical mean of Poisson input current:',I_p_bar)\n",
    "  print('Empirical mean of Poisson input current:',np.mean(I_p))\n",
    "\n",
    "  return poisson_spikes_matrix, I_p, I_p_bar, poisson_spikes_int\n",
    "\n",
    "\n",
    "# run Single neuron model\n",
    "def run_EIF_ext(I_inj):\n",
    "  \"\"\"\n",
    "  Simulate a single neuron modeled as Exponential Integrate and Fire (EIF) neuron dynamics with external input current\n",
    "\n",
    "  Args:\n",
    "    I_inj            : input current [pA] (here: injected current)(value or an array)\n",
    "\n",
    "  Returns:\n",
    "    spike_times      : spike times [ms] (array)\n",
    "    V_neuron         : mebrane potential [mV] (array)\n",
    "  \"\"\"\n",
    "  # Initialize membrane potential and external current\n",
    "  V_neuron = np.zeros(len(time))\n",
    "  V_neuron[0]=V_init\n",
    "  I_inj = I_inj * np.ones(len(time))\n",
    "\n",
    "  # Initialize postsynaptic spike train\n",
    "  spike_times = np.zeros(len(time)) # record spike times\n",
    "  spike_int = 0\n",
    "  # tr = 0. \n",
    "  \n",
    "  # Simulate EIF dynamics\n",
    "  for i in range(1,len(time)):\n",
    "    # Update the membane potential\n",
    "    V_neuron[i] = V_neuron[i-1]+dt*(I_inj[i-1]/g_L+(E_L-V_neuron[i-1])+t_ref*np.exp((V_neuron[i-1]-V_th)/t_ref))/tau_m\n",
    "    V_neuron[i] = np.maximum(V_neuron[i],V_lb)\n",
    "\n",
    "    # if there is a spike\n",
    "    if (V_neuron[i] >= V_th):    \n",
    "      V_neuron[i] = V_reset\n",
    "      V_neuron[i-1] = V_th # This just makes plots look nicer\n",
    "      spike_times[spike_int]=i*dt\n",
    "      spike_int += 1\n",
    "\n",
    "  # Compute rate\n",
    "  print(\"Number of spikes:\", spike_int)\n",
    "  rate=(spike_int)/T\n",
    "  print('Postsynaptic rate =',1000*rate,'Hz')\n",
    "\n",
    "  return V_neuron, spike_times"
   ]
  },
  {
   "cell_type": "markdown",
   "metadata": {},
   "source": [
    "# Simulate neuron with external (i.e.,\"injected\") current\n"
   ]
  },
  {
   "cell_type": "markdown",
   "metadata": {},
   "source": [
    "# Modeling a postsynaptic neuron\n",
    "\n",
    "Now model the membrane potential of a postsynaptic neuron using the exponential integrate-and-fire (EIF) model, which obeys the ODE\n",
    "$$\n",
    "\\tau_m \\frac{dV}{dt}=-(V-E_L)+D_T e^{(V-V_T)/D_T}+I_x\n",
    "$$\n",
    "with the added condition\n",
    "$$\n",
    "V(t)\\ge V_{th}\\Rightarrow V(t)\\gets V_{re},\\textrm{ record a spike}\n",
    "$$"
   ]
  },
  {
   "cell_type": "code",
   "execution_count": 83,
   "metadata": {},
   "outputs": [
    {
     "name": "stdout",
     "output_type": "stream",
     "text": [
      "Number of spikes: 3\n",
      "Postsynaptic rate = 30.0 Hz\n"
     ]
    },
    {
     "data": {
      "image/png": "[encoded data removed]",
      "text/plain": [
       "<Figure size 432x288 with 1 Axes>"
      ]
     },
     "metadata": {
      "needs_background": "light"
     },
     "output_type": "display_data"
    }
   ],
   "source": [
    "V_neuron, spike_times = run_EIF_ext(I_inj = 300)\n",
    "plot_V_m(V_neuron, spike_times, time)"
   ]
  },
  {
   "cell_type": "markdown",
   "metadata": {},
   "source": [
    "# Simulate neuron with Poisson input current"
   ]
  },
  {
   "cell_type": "code",
   "execution_count": 84,
   "metadata": {},
   "outputs": [
    {
     "name": "stdout",
     "output_type": "stream",
     "text": [
      "Theoretical mean of Poisson input current: 26.25\n",
      "Empirical mean of Poisson input current: 21.94220573601674\n"
     ]
    },
    {
     "data": {
      "image/png": "[encoded data removed]",
      "text/plain": [
       "<Figure size 432x288 with 1 Axes>"
      ]
     },
     "metadata": {
      "needs_background": "light"
     },
     "output_type": "display_data"
    }
   ],
   "source": [
    "# Simulate Poisson spikes\n",
    "poisson_spikes_matrix, I_p, I_p_bar, poisson_spikes_int = generate_poisson_spikes(N_p, ratio_p, j_p, tau_p, myseed = 2022)\n",
    "# Plot Poisson spikes\n",
    "plot_raster(poisson_spikes_matrix, time)\n",
    "# Simulate single neuron "
   ]
  }
 ],
 "metadata": {
  "interpreter": {
   "hash": "06155bc543d96d63ba91cd158cdbc730130801e75d916f0b4039cba90a544944"
  },
  "kernelspec": {
   "display_name": "Python 3.10.4 ('spyder-env')",
   "language": "python",
   "name": "python3"
  },
  "language_info": {
   "codemirror_mode": {
    "name": "ipython",
    "version": 3
   },
   "file_extension": ".py",
   "mimetype": "text/x-python",
   "name": "python",
   "nbconvert_exporter": "python",
   "pygments_lexer": "ipython3",
   "version": "3.10.4"
  },
  "orig_nbformat": 4
 },
 "nbformat": 4,
 "nbformat_minor": 2
}
